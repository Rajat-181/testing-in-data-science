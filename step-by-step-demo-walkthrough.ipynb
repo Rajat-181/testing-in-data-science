{
 "cells": [
  {
   "cell_type": "markdown",
   "metadata": {},
   "source": [
    "# Step-by-step demo walk through\n",
    "\n",
    "The testing demos are intended to be done in a code editor/IDE, and the tests run from the command line after each step. Below each of the steps are laid out to guide the tutorial leader. I prefer to print this out so I can refer to it while I live code each step over a projector along with the attendees.\n",
    "\n",
    "---\n",
    "\n",
    "# TDD Demo\n",
    "\n",
    "Both the TDD and the Fixtures demo use the same file `demo_tdd_intro.py`. Run the tests after each step of each task below, on the command line using: `pytest demo_tdd_intro.py`"
   ]
  },
  {
   "cell_type": "code",
   "execution_count": 1,
   "metadata": {
    "ExecuteTime": {
     "end_time": "2018-09-23T23:42:14.749021Z",
     "start_time": "2018-09-23T23:42:14.740886Z"
    }
   },
   "outputs": [],
   "source": [
    "# initial code in demo_tdd_intro.py\n",
    "\n",
    "def backwards_allcaps(text):\n",
    "    return text[::-1].upper()\n",
    "\n",
    "\n",
    "def test_backwards_allcaps():\n",
    "    assert backwards_allcaps('python') == 'NOHTYP'\n",
    "    assert backwards_allcaps('meetup') == 'PUTEEM'"
   ]
  },
  {
   "cell_type": "markdown",
   "metadata": {},
   "source": [
    "### TDD task 1: whitespace should be removed from any input text"
   ]
  },
  {
   "cell_type": "code",
   "execution_count": 2,
   "metadata": {
    "ExecuteTime": {
     "end_time": "2018-09-23T23:42:14.761368Z",
     "start_time": "2018-09-23T23:42:14.752028Z"
    }
   },
   "outputs": [],
   "source": [
    "def backwards_allcaps(text):\n",
    "    return text[::-1].replace(' ', '').upper()            # step 2\n",
    "\n",
    "\n",
    "def test_backwards_allcaps():\n",
    "    assert backwards_allcaps('python') == 'NOHTYP'\n",
    "    assert backwards_allcaps('meetup') == 'PUTEEM'\n",
    "\n",
    "\n",
    "def test_letters_only():\n",
    "    assert backwards_allcaps('salt lake') == 'EKALTLAS'    # step 1"
   ]
  },
  {
   "cell_type": "markdown",
   "metadata": {},
   "source": [
    "### TDD task 2: punctuation should also be removed"
   ]
  },
  {
   "cell_type": "code",
   "execution_count": 3,
   "metadata": {
    "ExecuteTime": {
     "end_time": "2018-09-23T23:42:14.778569Z",
     "start_time": "2018-09-23T23:42:14.764207Z"
    }
   },
   "outputs": [],
   "source": [
    "import string                                                          # step 2\n",
    "\n",
    "\n",
    "def backwards_allcaps(text):\n",
    "    for char in string.punctuation:                                    # step 2\n",
    "        text = text.replace(char, '')                                  # step 2\n",
    "    return text[::-1].replace(' ', '').upper()\n",
    "\n",
    "\n",
    "def test_backwards_allcaps():\n",
    "    assert backwards_allcaps('python') == 'NOHTYP'\n",
    "    assert backwards_allcaps('meetup') == 'PUTEEM'\n",
    "\n",
    "\n",
    "def test_letters_only():\n",
    "    assert backwards_allcaps('salt lake') == 'EKALTLAS'\n",
    "    assert backwards_allcaps('github.com is rad!') == 'DARSIMOCBUHTIG'  # step 1"
   ]
  },
  {
   "cell_type": "markdown",
   "metadata": {},
   "source": [
    "### TDD task 3: passing an empty string should raise an error"
   ]
  },
  {
   "cell_type": "code",
   "execution_count": 4,
   "metadata": {
    "ExecuteTime": {
     "end_time": "2018-09-23T23:42:14.848286Z",
     "start_time": "2018-09-23T23:42:14.781671Z"
    }
   },
   "outputs": [],
   "source": [
    "import pytest                                                # step 2\n",
    "import string\n",
    "\n",
    "\n",
    "def backwards_allcaps(text):\n",
    "    if len(text) == 0:                                       # step 2\n",
    "        raise AttributeError('String must contain letters')  # step 2\n",
    "    for char in string.punctuation:\n",
    "        text = text.replace(char, '')\n",
    "    return text[::-1].replace(' ', '').upper()\n",
    "\n",
    "\n",
    "def test_backwards_allcaps():\n",
    "    assert backwards_allcaps('python') == 'NOHTYP'\n",
    "    assert backwards_allcaps('meetup') == 'PUTEEM'\n",
    "\n",
    "\n",
    "def test_letters_only():\n",
    "    assert backwards_allcaps('salt lake') == 'EKALTLAS'\n",
    "    assert backwards_allcaps('github.com is rad!') == 'DARSIMOCBUHTIG'\n",
    "\n",
    "\n",
    "def test_bad_string():                                       # step 1\n",
    "    with pytest.raises(AttributeError):\n",
    "        backwards_allcaps('')"
   ]
  },
  {
   "cell_type": "markdown",
   "metadata": {},
   "source": [
    "### TDD task 3b: passing a string without letters should raise an error"
   ]
  },
  {
   "cell_type": "code",
   "execution_count": 5,
   "metadata": {
    "ExecuteTime": {
     "end_time": "2018-09-23T23:42:14.876706Z",
     "start_time": "2018-09-23T23:42:14.850332Z"
    }
   },
   "outputs": [],
   "source": [
    "import pytest\n",
    "import string\n",
    "\n",
    "\n",
    "def backwards_allcaps(text):\n",
    "    text = text.replace(' ', '')                             # step 2 - move section\n",
    "    for char in string.punctuation:\n",
    "        text = text.replace(char, '')\n",
    "    if len(text) == 0:                                       # step 2 - move section\n",
    "        raise AttributeError('String must contain letters')\n",
    "    return text[::-1].upper()\n",
    "\n",
    "\n",
    "def test_backwards_allcaps():\n",
    "    assert backwards_allcaps('python') == 'NOHTYP'\n",
    "    assert backwards_allcaps('meetup') == 'PUTEEM'\n",
    "\n",
    "\n",
    "def test_letters_only():\n",
    "    assert backwards_allcaps('salt lake') == 'EKALTLAS'\n",
    "    assert backwards_allcaps('github.com is rad!') == 'DARSIMOCBUHTIG'\n",
    "\n",
    "\n",
    "def test_bad_string():\n",
    "    with pytest.raises(AttributeError):\n",
    "        backwards_allcaps('')\n",
    "    with pytest.raises(AttributeError):                     # step 1\n",
    "        backwards_allcaps(';')                              # step 1\n",
    "    with pytest.raises(AttributeError):                     # step 1\n",
    "        backwards_allcaps(' ')                              # step 1"
   ]
  },
  {
   "cell_type": "markdown",
   "metadata": {},
   "source": [
    "# Fixtures Demo\n",
    "\n",
    "Most of the tests we have written use the same pattern of asserting that our function run on some input gives us an expected output. Instead of reusing this same assert pattern repeatedly we would like a way to avoid duplicating code.\n",
    "\n",
    "Additionally, each assert statement can be thought of as a unique test, but with the current set up pytest treats each test function as a unique test instead, which means that if the first assert statement in a test function fails, the assertions after it *are not run*.\n",
    "\n",
    "As an example, run the tests again with the typo below introduced. Try using the verbose flag `pytest -v demo_tdd_intro.py`."
   ]
  },
  {
   "cell_type": "code",
   "execution_count": 6,
   "metadata": {
    "ExecuteTime": {
     "end_time": "2018-09-23T23:42:14.883885Z",
     "start_time": "2018-09-23T23:42:14.879478Z"
    }
   },
   "outputs": [],
   "source": [
    "def test_backwards_allcaps():\n",
    "    assert backwards_allcaps('python') == 'NOTYP'   # NOTICE if this line fails\n",
    "    assert backwards_allcaps('meetup') == 'PUTEEM'  # then this line won't get run"
   ]
  },
  {
   "cell_type": "markdown",
   "metadata": {
    "ExecuteTime": {
     "end_time": "2018-09-23T23:09:54.160868Z",
     "start_time": "2018-09-23T23:09:54.157408Z"
    }
   },
   "source": [
    "### Parametrize the data test cases with a pytest fixture\n",
    "\n",
    "Using fixtures abstracts the data test cases away from the actual test itself, and allows all assertions to be checked and treated as separate tests."
   ]
  },
  {
   "cell_type": "code",
   "execution_count": 7,
   "metadata": {
    "ExecuteTime": {
     "end_time": "2018-09-23T23:42:14.917588Z",
     "start_time": "2018-09-23T23:42:14.886676Z"
    }
   },
   "outputs": [],
   "source": [
    "import pytest\n",
    "import string\n",
    "\n",
    "\n",
    "def backwards_allcaps(text):\n",
    "    text = text.replace(' ', '')\n",
    "    for char in string.punctuation:\n",
    "        text = text.replace(char, '')\n",
    "    if len(text) == 0:\n",
    "        raise AttributeError('String must contain letters')\n",
    "    return text[::-1].upper()\n",
    "\n",
    "\n",
    "@pytest.fixture(params=[\n",
    "    {'input': 'python', 'output': 'NOHTYP'},\n",
    "    {'input': 'meetup', 'output': 'PUTEEM'},\n",
    "    {'input': 'salt lake', 'output': 'EKALTLAS'},\n",
    "    {'input': 'github.com is rad!', 'output': 'DARSIMOCBUHTIG'}])\n",
    "def test_data(request):\n",
    "    return request.param\n",
    "\n",
    "\n",
    "def test_backwards_allcaps(test_data):\n",
    "    assert backwards_allcaps(test_data['input']) == test_data['output']\n",
    "\n",
    "\n",
    "def test_bad_string():\n",
    "    with pytest.raises(AttributeError):\n",
    "        backwards_allcaps('')\n",
    "    with pytest.raises(AttributeError):\n",
    "        backwards_allcaps(';')\n",
    "    with pytest.raises(AttributeError):\n",
    "        backwards_allcaps(' ')"
   ]
  },
  {
   "cell_type": "markdown",
   "metadata": {},
   "source": [
    "### Create a fixture for the inputs that should raise errors"
   ]
  },
  {
   "cell_type": "code",
   "execution_count": 8,
   "metadata": {
    "ExecuteTime": {
     "end_time": "2018-09-23T23:42:14.953087Z",
     "start_time": "2018-09-23T23:42:14.920285Z"
    }
   },
   "outputs": [],
   "source": [
    "import pytest\n",
    "import string\n",
    "\n",
    "\n",
    "def backwards_allcaps(text):\n",
    "    text = text.replace(' ', '')\n",
    "    for char in string.punctuation:\n",
    "        text = text.replace(char, '')\n",
    "    if len(text) == 0:\n",
    "        raise AttributeError('String must contain letters')\n",
    "    return text[::-1].upper()\n",
    "\n",
    "\n",
    "@pytest.fixture(params=[\n",
    "    {'input': 'python', 'output': 'NOHTYP'},\n",
    "    {'input': 'meetup', 'output': 'PUTEEM'},\n",
    "    {'input': 'salt lake', 'output': 'EKALTLAS'},\n",
    "    {'input': 'github.com is rad!', 'output': 'DARSIMOCBUHTIG'}])\n",
    "def test_data(request):\n",
    "    return request.param\n",
    "\n",
    "\n",
    "@pytest.fixture(params=['', ';', ' '])\n",
    "def bad_input(request):\n",
    "    return request.param\n",
    "\n",
    "\n",
    "def test_backwards_allcaps(test_data):\n",
    "    assert backwards_allcaps(test_data['input']) == test_data['output']\n",
    "\n",
    "\n",
    "def test_bad_string(bad_input):\n",
    "    with pytest.raises(AttributeError):\n",
    "        backwards_allcaps(bad_input)"
   ]
  },
  {
   "cell_type": "markdown",
   "metadata": {},
   "source": [
    "### All test cases will be run, even if a prior one fails\n",
    "\n",
    "For example, add the parameter 'abc' to the `bad_input` fixture and run the tests with the verbose flag. This test will fail, but the tests afterwards are still run!"
   ]
  },
  {
   "cell_type": "code",
   "execution_count": 9,
   "metadata": {
    "ExecuteTime": {
     "end_time": "2018-09-23T23:42:14.961175Z",
     "start_time": "2018-09-23T23:42:14.955334Z"
    }
   },
   "outputs": [],
   "source": [
    "@pytest.fixture(params=['', 'abc', ';', ' '])\n",
    "def bad_input(request):\n",
    "    return request.param"
   ]
  },
  {
   "cell_type": "markdown",
   "metadata": {},
   "source": [
    "---\n",
    "\n",
    "# Legacy Code Demo - WORK IN PROGRESS\n",
    "\n",
    "This demo uses the python file `demo_legacy_code.py`."
   ]
  }
 ],
 "metadata": {
  "kernelspec": {
   "display_name": "Python 3",
   "language": "python",
   "name": "python3"
  },
  "language_info": {
   "codemirror_mode": {
    "name": "ipython",
    "version": 3
   },
   "file_extension": ".py",
   "mimetype": "text/x-python",
   "name": "python",
   "nbconvert_exporter": "python",
   "pygments_lexer": "ipython3",
   "version": "3.7.2"
  }
 },
 "nbformat": 4,
 "nbformat_minor": 2
}
