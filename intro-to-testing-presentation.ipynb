{
 "cells": [
  {
   "cell_type": "markdown",
   "metadata": {
    "slideshow": {
     "slide_type": "skip"
    }
   },
   "source": [
    "To play slideshow, run this command in the terminal:\n",
    "```\n",
    "$ jupyter nbconvert intro-to-testing-presentation.ipynb --to slides --post serve --SlidesExporter.reveal_theme=night --SlidesExporter.reveal_transition=none\n",
    "```"
   ]
  },
  {
   "cell_type": "markdown",
   "metadata": {
    "slideshow": {
     "slide_type": "slide"
    }
   },
   "source": [
    "# Getting Started Testing in Data Science\n",
    "\n",
    "Jes Ford, PhD\n",
    "\n",
    "Data Scientist\n",
    "\n",
    "<table><tr>\n",
    "    <td><img src=\"img/venn.png\" style=\"width: 175px;\"></td>\n",
    "    <td><img src=\"img/pytest.png\" style=\"width: 300px;\"></td>\n",
    "    <td><img src=\"img/hypothesis.png\" style=\"width: 175px;\"></td>\n",
    "</tr></table>"
   ]
  },
  {
   "cell_type": "markdown",
   "metadata": {
    "collapsed": true,
    "slideshow": {
     "slide_type": "slide"
    }
   },
   "source": [
    "# Jes Ford\n",
    "\n",
    "Data Scientist at Recursion in Salt Lake City.\n",
    "\n",
    "- Originally from Alaska, have followed the snow all around the western US/Canada\n",
    "- PhD in Astrophysics from UBC, Vancouver\n",
    "- Postdoc in Data Science at UW, Seattle\n",
    "- like many data scientists, no formal training in software best practices\n",
    "\n",
    "<br>\n",
    "\n",
    "<div style=\"background-color:white\">\n",
    "<table bordercolor=\"white\"><tr>\n",
    "<td> <img src=\"img/Recursion.png\" alt=\"Drawing\" style=\"width: 200px;\"/> </td>\n",
    "<td> <p style=\"color:black;font-size:16px;border:none;\"><b>Drug discovery, reimagined through Artificial Intelligence</b><br>We are hiring data scientists, ML researchers, engineers, and more:<br> www.recursionpharma.com/careers </p></p></td>\n",
    "</tr></table>\n",
    "</div>"
   ]
  },
  {
   "cell_type": "markdown",
   "metadata": {
    "slideshow": {
     "slide_type": "slide"
    }
   },
   "source": [
    "## The plan"
   ]
  },
  {
   "cell_type": "code",
   "execution_count": null,
   "metadata": {
    "slideshow": {
     "slide_type": "-"
    }
   },
   "outputs": [],
   "source": [
    "def presentation():\n",
    "    motivate_testing()\n",
    "    introduce_testing_with_pytest()\n",
    "    data_science_workflows()\n",
    "    data_science_example_tests()\n",
    "    wrap_up()"
   ]
  },
  {
   "cell_type": "markdown",
   "metadata": {
    "slideshow": {
     "slide_type": "slide"
    }
   },
   "source": [
    "## Why test?\n",
    "\n",
    "- Tests can give you evidence that your code is working as expected\n",
    "- Tests give you confidence to make changes without fear of breaking something\n",
    "- Tests make other people trust your code more"
   ]
  },
  {
   "cell_type": "markdown",
   "metadata": {
    "slideshow": {
     "slide_type": "slide"
    }
   },
   "source": [
    "## Why *not* test?"
   ]
  },
  {
   "cell_type": "markdown",
   "metadata": {
    "slideshow": {
     "slide_type": "fragment"
    }
   },
   "source": [
    "Writing tests takes time!\n",
    "\n",
    "### The Struggle\n",
    "\n",
    "As a data scientist I am constantly struggling with these competing goals:\n",
    "\n",
    "- getting results as quickly as possible\n",
    "- being as confident as possible that I've got the right answer\n",
    "  \n",
    "$\\rightarrow$ How do we balance these interests in the optimal way?"
   ]
  },
  {
   "cell_type": "markdown",
   "metadata": {
    "slideshow": {
     "slide_type": "notes"
    }
   },
   "source": [
    "This is what my talk is all about. Not just how to write tests, but how to decide when its worth the time and effort."
   ]
  },
  {
   "cell_type": "markdown",
   "metadata": {
    "slideshow": {
     "slide_type": "slide"
    }
   },
   "source": [
    "## In this talk...\n"
   ]
  },
  {
   "cell_type": "markdown",
   "metadata": {
    "slideshow": {
     "slide_type": "fragment"
    }
   },
   "source": [
    "- I will *not* insist that you always write tests"
   ]
  },
  {
   "cell_type": "markdown",
   "metadata": {
    "slideshow": {
     "slide_type": "fragment"
    }
   },
   "source": [
    "- I will describe different scenarios I find myself in as a data scientist and how I try to be confident that my results are correct"
   ]
  },
  {
   "cell_type": "markdown",
   "metadata": {
    "slideshow": {
     "slide_type": "fragment"
    }
   },
   "source": [
    "- I will show you how to get started testing and share some tools for data science testing"
   ]
  },
  {
   "cell_type": "markdown",
   "metadata": {
    "slideshow": {
     "slide_type": "slide"
    }
   },
   "source": [
    "## Disclaimer"
   ]
  },
  {
   "cell_type": "markdown",
   "metadata": {
    "slideshow": {
     "slide_type": "fragment"
    }
   },
   "source": [
    "- I am not a testing expert or a software engineer"
   ]
  },
  {
   "cell_type": "markdown",
   "metadata": {
    "slideshow": {
     "slide_type": "fragment"
    }
   },
   "source": [
    "- \"data science\" covers a huge range of job duties and formal testing is less important in some of them (one-off analyses vs committing to production code base)"
   ]
  },
  {
   "cell_type": "markdown",
   "metadata": {
    "slideshow": {
     "slide_type": "slide"
    }
   },
   "source": [
    "## How do you know if your code is correct??\n",
    "- manual sanity checks\n",
    "- defensive programming\n",
    "- tests"
   ]
  },
  {
   "cell_type": "markdown",
   "metadata": {
    "slideshow": {
     "slide_type": "slide"
    }
   },
   "source": [
    "## How do you know if your code is correct??\n",
    "- manual sanity checks\n",
    "- defensive programming: **assertions within the code**\n",
    "- tests"
   ]
  },
  {
   "cell_type": "code",
   "execution_count": 1,
   "metadata": {
    "ExecuteTime": {
     "end_time": "2019-05-03T02:03:51.648371Z",
     "start_time": "2019-05-03T02:03:51.645096Z"
    },
    "slideshow": {
     "slide_type": "fragment"
    }
   },
   "outputs": [],
   "source": [
    "# assertion example\n",
    "def hello_to_all(list_of_names):\n",
    "    assert len(list_of_names) > 0, 'There is no one here'\n",
    "    print('Hello {}!'.format(', '.join(list_of_names)))"
   ]
  },
  {
   "cell_type": "code",
   "execution_count": 2,
   "metadata": {
    "ExecuteTime": {
     "end_time": "2019-05-03T02:03:52.135108Z",
     "start_time": "2019-05-03T02:03:52.131669Z"
    },
    "slideshow": {
     "slide_type": "fragment"
    }
   },
   "outputs": [
    {
     "name": "stdout",
     "output_type": "stream",
     "text": [
      "Hello Parker, Missy, Taylor!\n"
     ]
    }
   ],
   "source": [
    "hello_to_all(['Parker', 'Missy', 'Taylor'])"
   ]
  },
  {
   "cell_type": "code",
   "execution_count": 3,
   "metadata": {
    "ExecuteTime": {
     "end_time": "2019-05-03T02:03:52.684557Z",
     "start_time": "2019-05-03T02:03:52.599487Z"
    },
    "slideshow": {
     "slide_type": "fragment"
    }
   },
   "outputs": [
    {
     "ename": "AssertionError",
     "evalue": "There is no one here",
     "output_type": "error",
     "traceback": [
      "\u001b[0;31m---------------------------------------------------------------------------\u001b[0m",
      "\u001b[0;31mAssertionError\u001b[0m                            Traceback (most recent call last)",
      "\u001b[0;32m<ipython-input-3-976e84a8fe8e>\u001b[0m in \u001b[0;36m<module>\u001b[0;34m\u001b[0m\n\u001b[0;32m----> 1\u001b[0;31m \u001b[0mhello_to_all\u001b[0m\u001b[0;34m(\u001b[0m\u001b[0;34m[\u001b[0m\u001b[0;34m]\u001b[0m\u001b[0;34m)\u001b[0m\u001b[0;34m\u001b[0m\u001b[0;34m\u001b[0m\u001b[0m\n\u001b[0m",
      "\u001b[0;32m<ipython-input-1-1fb3826b63a8>\u001b[0m in \u001b[0;36mhello_to_all\u001b[0;34m(list_of_names)\u001b[0m\n\u001b[1;32m      1\u001b[0m \u001b[0;31m# assertion example\u001b[0m\u001b[0;34m\u001b[0m\u001b[0;34m\u001b[0m\u001b[0;34m\u001b[0m\u001b[0m\n\u001b[1;32m      2\u001b[0m \u001b[0;32mdef\u001b[0m \u001b[0mhello_to_all\u001b[0m\u001b[0;34m(\u001b[0m\u001b[0mlist_of_names\u001b[0m\u001b[0;34m)\u001b[0m\u001b[0;34m:\u001b[0m\u001b[0;34m\u001b[0m\u001b[0;34m\u001b[0m\u001b[0m\n\u001b[0;32m----> 3\u001b[0;31m     \u001b[0;32massert\u001b[0m \u001b[0mlen\u001b[0m\u001b[0;34m(\u001b[0m\u001b[0mlist_of_names\u001b[0m\u001b[0;34m)\u001b[0m \u001b[0;34m>\u001b[0m \u001b[0;36m0\u001b[0m\u001b[0;34m,\u001b[0m \u001b[0;34m'There is no one here'\u001b[0m\u001b[0;34m\u001b[0m\u001b[0;34m\u001b[0m\u001b[0m\n\u001b[0m\u001b[1;32m      4\u001b[0m     \u001b[0mprint\u001b[0m\u001b[0;34m(\u001b[0m\u001b[0;34m'Hello {}!'\u001b[0m\u001b[0;34m.\u001b[0m\u001b[0mformat\u001b[0m\u001b[0;34m(\u001b[0m\u001b[0;34m', '\u001b[0m\u001b[0;34m.\u001b[0m\u001b[0mjoin\u001b[0m\u001b[0;34m(\u001b[0m\u001b[0mlist_of_names\u001b[0m\u001b[0;34m)\u001b[0m\u001b[0;34m)\u001b[0m\u001b[0;34m)\u001b[0m\u001b[0;34m\u001b[0m\u001b[0;34m\u001b[0m\u001b[0m\n",
      "\u001b[0;31mAssertionError\u001b[0m: There is no one here"
     ]
    }
   ],
   "source": [
    "hello_to_all([])"
   ]
  },
  {
   "cell_type": "markdown",
   "metadata": {
    "slideshow": {
     "slide_type": "slide"
    }
   },
   "source": [
    "### Assertions\n",
    "\n",
    "are a careful data scientist's best friend. This is your middle ground of checking for expected behavior with extremely minimal effort! Check that you don't have any duplicated data, missing values, consistent dataframe shapes, column data types, etc.\n",
    "\n",
    "If you take nothing else away from this talk, start adding assertions within your code."
   ]
  },
  {
   "cell_type": "markdown",
   "metadata": {
    "slideshow": {
     "slide_type": "slide"
    }
   },
   "source": [
    "## Simple test example"
   ]
  },
  {
   "cell_type": "code",
   "execution_count": 4,
   "metadata": {
    "ExecuteTime": {
     "end_time": "2019-05-03T02:03:58.194630Z",
     "start_time": "2019-05-03T02:03:58.191877Z"
    },
    "slideshow": {
     "slide_type": "fragment"
    }
   },
   "outputs": [],
   "source": [
    "def backwards_allcaps(text):\n",
    "    return text[::-1].upper()"
   ]
  },
  {
   "cell_type": "code",
   "execution_count": 5,
   "metadata": {
    "ExecuteTime": {
     "end_time": "2019-05-03T02:03:59.084442Z",
     "start_time": "2019-05-03T02:03:59.076134Z"
    },
    "slideshow": {
     "slide_type": "fragment"
    }
   },
   "outputs": [
    {
     "data": {
      "text/plain": [
       "'NOHTYP'"
      ]
     },
     "execution_count": 5,
     "metadata": {},
     "output_type": "execute_result"
    }
   ],
   "source": [
    "backwards_allcaps('Python')"
   ]
  },
  {
   "cell_type": "code",
   "execution_count": 6,
   "metadata": {
    "ExecuteTime": {
     "end_time": "2019-05-03T02:03:59.772126Z",
     "start_time": "2019-05-03T02:03:59.769660Z"
    },
    "slideshow": {
     "slide_type": "fragment"
    }
   },
   "outputs": [],
   "source": [
    "def test_backwards_allcaps():\n",
    "    assert backwards_allcaps('pycon') == 'NOCYP'\n",
    "    assert backwards_allcaps('Cleveland') == 'DNALEVELC'"
   ]
  },
  {
   "cell_type": "markdown",
   "metadata": {
    "slideshow": {
     "slide_type": "slide"
    }
   },
   "source": [
    "## pytest\n",
    "\n",
    "- less boilerplate $\\rightarrow$ easier/faster test writing\n",
    "- automatically handles finding, collecting, running, evaluating your tests\n",
    "- when tests fail you can get a lot of useful info\n",
    "- lots of powerful built in features\n",
    "- just works (with benefits) on existing tests written for unittest or nose\n",
    "\n",
    "`$ pip install pytest`"
   ]
  },
  {
   "cell_type": "markdown",
   "metadata": {
    "slideshow": {
     "slide_type": "notes"
    }
   },
   "source": [
    "vs unittest requires tests to be wrapped inside classes which subclass from unittest.TestCase; pytest you just write functions with simple regular assert statements, which easier to read/write\n"
   ]
  },
  {
   "cell_type": "markdown",
   "metadata": {
    "slideshow": {
     "slide_type": "skip"
    }
   },
   "source": [
    "## Where do tests go?\n",
    "\n",
    "This is a typical directory layout, but its not required. You can tell pytest where to look for tests, so really you *can* put them pretty much anywhere.\n",
    "\n",
    "```\n",
    "myproject/\n",
    "    myproject/\n",
    "        myproject.py\n",
    "        utils.py\n",
    "        __init__.py\n",
    "    tests/\n",
    "        test_myproject.py\n",
    "    setup.py\n",
    "    README.md\n",
    "    LICENSE.txt\n",
    "```\n",
    "\n",
    "pytest searches all directories below the current directory for files that start or end with \"test\" (`test_*.py`, `*_test.py`) and runs any functions and classes like `def test_the_things()` and `class TestStuff()`."
   ]
  },
  {
   "cell_type": "markdown",
   "metadata": {
    "slideshow": {
     "slide_type": "slide"
    }
   },
   "source": [
    "## pytest demo"
   ]
  },
  {
   "cell_type": "code",
   "execution_count": 7,
   "metadata": {
    "ExecuteTime": {
     "end_time": "2019-05-03T02:04:06.136964Z",
     "start_time": "2019-05-03T02:04:06.133686Z"
    },
    "slideshow": {
     "slide_type": "-"
    }
   },
   "outputs": [],
   "source": [
    "# contents of demo_tdd.py\n",
    "\n",
    "def backwards_allcaps(text):\n",
    "    return text[::-1].upper()\n",
    "\n",
    "\n",
    "def test_backwards_allcaps():\n",
    "    assert backwards_allcaps('pycon') == 'NOCYP'\n",
    "    assert backwards_allcaps('Cleveland') == 'DNALEVELC'"
   ]
  },
  {
   "cell_type": "markdown",
   "metadata": {
    "slideshow": {
     "slide_type": "-"
    }
   },
   "source": [
    "How to run tests?\n",
    "\n",
    "\n",
    "```\n",
    "$ pytest demo_tdd.py\n",
    "```"
   ]
  },
  {
   "cell_type": "markdown",
   "metadata": {
    "ExecuteTime": {
     "end_time": "2019-02-20T01:35:38.727089Z",
     "start_time": "2019-02-20T01:35:38.688352Z"
    },
    "slideshow": {
     "slide_type": "slide"
    }
   },
   "source": [
    "<img src=\"img/tdd_1.png\" style=\"width: 1200px;\">"
   ]
  },
  {
   "cell_type": "markdown",
   "metadata": {
    "slideshow": {
     "slide_type": "fragment"
    }
   },
   "source": [
    "<img src=\"img/tdd_2.png\" style=\"width: 1200px;\">"
   ]
  },
  {
   "cell_type": "markdown",
   "metadata": {
    "slideshow": {
     "slide_type": "slide"
    }
   },
   "source": [
    "### *New feature:* whitespace should be removed from input text"
   ]
  },
  {
   "cell_type": "code",
   "execution_count": 8,
   "metadata": {
    "ExecuteTime": {
     "end_time": "2019-05-03T02:04:10.606681Z",
     "start_time": "2019-05-03T02:04:10.603565Z"
    },
    "slideshow": {
     "slide_type": "-"
    }
   },
   "outputs": [],
   "source": [
    "def backwards_allcaps(text):\n",
    "    return text[::-1].upper()\n",
    "\n",
    "\n",
    "def test_backwards_allcaps():\n",
    "    assert backwards_allcaps('pycon') == 'NOCYP'\n",
    "    assert backwards_allcaps('Cleveland') == 'DNALEVELC'"
   ]
  },
  {
   "cell_type": "markdown",
   "metadata": {
    "slideshow": {
     "slide_type": "fragment"
    }
   },
   "source": [
    "### TDD:\n",
    "1. add a test\n",
    "2. run the test (it should fail)\n",
    "3. add the feature\n",
    "4. run the test"
   ]
  },
  {
   "cell_type": "markdown",
   "metadata": {
    "slideshow": {
     "slide_type": "slide"
    }
   },
   "source": [
    "### *New feature:* whitespace should be removed from input text"
   ]
  },
  {
   "cell_type": "code",
   "execution_count": 9,
   "metadata": {
    "ExecuteTime": {
     "end_time": "2019-05-03T02:04:15.174863Z",
     "start_time": "2019-05-03T02:04:15.170998Z"
    },
    "slideshow": {
     "slide_type": "-"
    }
   },
   "outputs": [],
   "source": [
    "def backwards_allcaps(text):\n",
    "    return text[::-1].upper()\n",
    "\n",
    "\n",
    "def test_backwards_allcaps():\n",
    "    assert backwards_allcaps('pycon') == 'NOCYP'\n",
    "    assert backwards_allcaps('Cleveland') == 'DNALEVELC'\n",
    "\n",
    "\n",
    "def test_letters_only():\n",
    "    assert backwards_allcaps('Salt Lake City') == 'YTICEKALTLAS'  # step 1"
   ]
  },
  {
   "cell_type": "markdown",
   "metadata": {
    "ExecuteTime": {
     "end_time": "2019-02-20T01:35:38.727089Z",
     "start_time": "2019-02-20T01:35:38.688352Z"
    },
    "slideshow": {
     "slide_type": "slide"
    }
   },
   "source": [
    "<img src=\"img/tdd_3.png\" style=\"width: 1200px;\">"
   ]
  },
  {
   "cell_type": "markdown",
   "metadata": {
    "slideshow": {
     "slide_type": "slide"
    }
   },
   "source": [
    "### *New feature:* whitespace should be removed from input text"
   ]
  },
  {
   "cell_type": "code",
   "execution_count": 10,
   "metadata": {
    "ExecuteTime": {
     "end_time": "2019-05-03T02:04:20.535352Z",
     "start_time": "2019-05-03T02:04:20.531498Z"
    },
    "slideshow": {
     "slide_type": "-"
    }
   },
   "outputs": [],
   "source": [
    "def backwards_allcaps(text):\n",
    "    return text[::-1].replace(' ', '').upper()            # step 2\n",
    "\n",
    "\n",
    "def test_backwards_allcaps():\n",
    "    assert backwards_allcaps('pycon') == 'NOCYP'\n",
    "    assert backwards_allcaps('Cleveland') == 'DNALEVELC'\n",
    "\n",
    "\n",
    "def test_letters_only():\n",
    "    assert backwards_allcaps('Salt Lake City') == 'YTICEKALTLAS'  # step 1"
   ]
  },
  {
   "cell_type": "markdown",
   "metadata": {
    "ExecuteTime": {
     "end_time": "2019-02-20T01:35:38.727089Z",
     "start_time": "2019-02-20T01:35:38.688352Z"
    },
    "slideshow": {
     "slide_type": "slide"
    }
   },
   "source": [
    "<img src=\"img/tdd_5.png\" style=\"width: 1200px;\">"
   ]
  },
  {
   "cell_type": "markdown",
   "metadata": {
    "slideshow": {
     "slide_type": "slide"
    }
   },
   "source": [
    "### That's great, but these examples were dumb\n",
    "\n",
    "1. these test examples don't really apply to data science work\n",
    "2. this TDD workflow isn't always reasonable during research & exploration"
   ]
  },
  {
   "cell_type": "markdown",
   "metadata": {
    "slideshow": {
     "slide_type": "slide"
    }
   },
   "source": [
    "# Data Science Domain Problems\n",
    "\n",
    "- dataframes are the input and output of your functions\n",
    "- working with databases\n",
    "- ML models with non-deterministic outcomes\n",
    "- acceptable tolerances on results\n",
    "- testing for properties of things rather than exact values"
   ]
  },
  {
   "cell_type": "markdown",
   "metadata": {
    "slideshow": {
     "slide_type": "slide"
    }
   },
   "source": [
    "# Data Science Workflows"
   ]
  },
  {
   "cell_type": "markdown",
   "metadata": {
    "slideshow": {
     "slide_type": "fragment"
    }
   },
   "source": [
    "1. \"One-off analysis\"\n",
    "2. Exploratory\n",
    "3. Well defined problem"
   ]
  },
  {
   "cell_type": "markdown",
   "metadata": {
    "slideshow": {
     "slide_type": "slide"
    }
   },
   "source": [
    "## Data Science Workflows\n",
    "1. **\"One-off analysis\"** $\\leftarrow$\n",
    "2. Exploratory\n",
    "3. Well defined problem\n",
    "\n",
    "### For one-off analyses I do not write tests, but instead focus on clear documentation in case the analysis gets revisited. \n",
    "\n",
    "If it *does* get revisited, I'll consider breaking the code out of a notebook and into a module (possibly refactoring) and adding some tests."
   ]
  },
  {
   "cell_type": "markdown",
   "metadata": {
    "slideshow": {
     "slide_type": "slide"
    }
   },
   "source": [
    "## Data Science Workflows\n",
    "1. \"One-off analysis\"\n",
    "2. **Exploratory** $\\leftarrow$\n",
    "3. Well defined problem\n",
    "\n",
    "### Its impractical to write tests during the exploratory phase. However, if things go well there is almost always code created along the way which is useful in a later stage of the project.\n",
    "\n",
    "Judgment call needed as my legacy/untested code base grows..."
   ]
  },
  {
   "cell_type": "markdown",
   "metadata": {
    "slideshow": {
     "slide_type": "slide"
    }
   },
   "source": [
    "## Data Science Workflows\n",
    "1. \"One-off analysis\"\n",
    "2. Exploratory\n",
    "3. **Well defined problem**  $\\leftarrow$\n",
    "\n",
    "### If I'm writing code for a fairly well defined problem, which I know will be re-used, I try very hard to write tests as I develop the code."
   ]
  },
  {
   "cell_type": "markdown",
   "metadata": {
    "slideshow": {
     "slide_type": "slide"
    }
   },
   "source": [
    "## Data Science Workflows\n",
    "1. \"One-off analysis\"\n",
    "2. **Exploratory**  $\\leftarrow$\n",
    "3. Well defined problem\n",
    "4. **Legacy code**  $\\leftarrow$\n",
    "\n",
    "### Once I realize I will need to reuse code, I try to start adding tests *when I modify it.*\n",
    "\n",
    "Generally, if I'm confident something is working now, I'll only bother to add tests when I'm adding features or fixing bugs. (Inspired by [Justin Crown's PyCon 2018 talk](https://www.youtube.com/watch?v=LDdUuoI_lIg))."
   ]
  },
  {
   "cell_type": "markdown",
   "metadata": {
    "slideshow": {
     "slide_type": "slide"
    }
   },
   "source": [
    "# Data Science Domain Problems\n",
    "\n",
    "Examples of tests for common data science problems"
   ]
  },
  {
   "cell_type": "markdown",
   "metadata": {
    "slideshow": {
     "slide_type": "slide"
    }
   },
   "source": [
    "## Working with Pandas DataFrames\n",
    "\n",
    "Checking for duplicates and missing values."
   ]
  },
  {
   "cell_type": "code",
   "execution_count": 11,
   "metadata": {
    "ExecuteTime": {
     "end_time": "2019-05-03T02:04:43.829870Z",
     "start_time": "2019-05-03T02:04:43.181936Z"
    },
    "slideshow": {
     "slide_type": "-"
    }
   },
   "outputs": [
    {
     "name": "stdout",
     "output_type": "stream",
     "text": [
      "       channel  customer  order\n",
      "0        email         1   1010\n",
      "1  paid_search         4   2050\n",
      "2      display         4   2050\n",
      "3        email         3   3232\n"
     ]
    }
   ],
   "source": [
    "import pandas as pd\n",
    "import numpy as np\n",
    "\n",
    "\n",
    "df = pd.DataFrame({'channel': ['email', 'paid_search', 'display', 'email'],\n",
    "                   'customer': [1, 4, 4, 3],\n",
    "                   'order': [1010, 2050, 2050, 3232]})\n",
    "print(df)"
   ]
  },
  {
   "cell_type": "code",
   "execution_count": 12,
   "metadata": {
    "ExecuteTime": {
     "end_time": "2019-05-03T02:04:44.821471Z",
     "start_time": "2019-05-03T02:04:44.812183Z"
    },
    "slideshow": {
     "slide_type": "fragment"
    }
   },
   "outputs": [],
   "source": [
    "assert df.notnull().all().all()\n",
    "assert ~df.isnull().any().any()\n",
    "assert df.isnull().sum().sum() == 0"
   ]
  },
  {
   "cell_type": "markdown",
   "metadata": {
    "slideshow": {
     "slide_type": "slide"
    }
   },
   "source": [
    "## Working with Pandas DataFrames\n",
    "\n",
    "Checking for duplicates and missing values."
   ]
  },
  {
   "cell_type": "code",
   "execution_count": 13,
   "metadata": {
    "ExecuteTime": {
     "end_time": "2019-05-03T02:04:47.347876Z",
     "start_time": "2019-05-03T02:04:47.342878Z"
    },
    "slideshow": {
     "slide_type": "fragment"
    }
   },
   "outputs": [
    {
     "name": "stdout",
     "output_type": "stream",
     "text": [
      "       channel  customer  order\n",
      "0        email         1   1010\n",
      "1  paid_search         4   2050\n",
      "2      display         4   2050\n",
      "3        email         3   3232\n"
     ]
    }
   ],
   "source": [
    "print(df)"
   ]
  },
  {
   "cell_type": "code",
   "execution_count": 14,
   "metadata": {
    "ExecuteTime": {
     "end_time": "2019-05-03T02:04:48.121916Z",
     "start_time": "2019-05-03T02:04:48.112995Z"
    },
    "slideshow": {
     "slide_type": "fragment"
    }
   },
   "outputs": [],
   "source": [
    "assert ~df.duplicated().any()"
   ]
  },
  {
   "cell_type": "code",
   "execution_count": 15,
   "metadata": {
    "ExecuteTime": {
     "end_time": "2019-05-03T02:04:49.746536Z",
     "start_time": "2019-05-03T02:04:49.532798Z"
    },
    "slideshow": {
     "slide_type": "fragment"
    }
   },
   "outputs": [
    {
     "ename": "ValueError",
     "evalue": "Duplicate records found for order",
     "output_type": "error",
     "traceback": [
      "\u001b[0;31m---------------------------------------------------------------------------\u001b[0m",
      "\u001b[0;31mValueError\u001b[0m                                Traceback (most recent call last)",
      "\u001b[0;32m<ipython-input-15-d574c85f7f29>\u001b[0m in \u001b[0;36m<module>\u001b[0;34m\u001b[0m\n\u001b[1;32m      1\u001b[0m \u001b[0;32mif\u001b[0m \u001b[0mdf\u001b[0m\u001b[0;34m.\u001b[0m\u001b[0mduplicated\u001b[0m\u001b[0;34m(\u001b[0m\u001b[0msubset\u001b[0m\u001b[0;34m=\u001b[0m\u001b[0;34m[\u001b[0m\u001b[0;34m'order'\u001b[0m\u001b[0;34m]\u001b[0m\u001b[0;34m)\u001b[0m\u001b[0;34m.\u001b[0m\u001b[0many\u001b[0m\u001b[0;34m(\u001b[0m\u001b[0;34m)\u001b[0m\u001b[0;34m:\u001b[0m\u001b[0;34m\u001b[0m\u001b[0;34m\u001b[0m\u001b[0m\n\u001b[0;32m----> 2\u001b[0;31m     \u001b[0;32mraise\u001b[0m \u001b[0mValueError\u001b[0m\u001b[0;34m(\u001b[0m\u001b[0;34m'Duplicate records found for order'\u001b[0m\u001b[0;34m)\u001b[0m\u001b[0;34m\u001b[0m\u001b[0;34m\u001b[0m\u001b[0m\n\u001b[0m",
      "\u001b[0;31mValueError\u001b[0m: Duplicate records found for order"
     ]
    }
   ],
   "source": [
    "if df.duplicated(subset=['order']).any():\n",
    "    raise ValueError('Duplicate records found for order')"
   ]
  },
  {
   "cell_type": "markdown",
   "metadata": {
    "slideshow": {
     "slide_type": "slide"
    }
   },
   "source": [
    "## Working with Pandas DataFrames\n",
    "\n",
    "Built in utilities that help you test."
   ]
  },
  {
   "cell_type": "code",
   "execution_count": 16,
   "metadata": {
    "ExecuteTime": {
     "end_time": "2019-05-03T02:04:58.419747Z",
     "start_time": "2019-05-03T02:04:58.416980Z"
    },
    "slideshow": {
     "slide_type": "-"
    }
   },
   "outputs": [],
   "source": [
    "from pandas.util.testing import assert_frame_equal\n",
    "from pandas.util.testing import assert_index_equal\n",
    "from pandas.util.testing import assert_series_equal"
   ]
  },
  {
   "cell_type": "code",
   "execution_count": 17,
   "metadata": {
    "ExecuteTime": {
     "end_time": "2019-05-03T02:04:58.997099Z",
     "start_time": "2019-05-03T02:04:58.994477Z"
    },
    "slideshow": {
     "slide_type": "skip"
    }
   },
   "outputs": [],
   "source": [
    "df2 = df.copy()"
   ]
  },
  {
   "cell_type": "code",
   "execution_count": 18,
   "metadata": {
    "ExecuteTime": {
     "end_time": "2019-05-03T02:05:01.706503Z",
     "start_time": "2019-05-03T02:05:01.701246Z"
    },
    "slideshow": {
     "slide_type": "fragment"
    }
   },
   "outputs": [],
   "source": [
    "assert_frame_equal(df, df2,\n",
    "                   check_like=True,       # order of columns/rows doesn't matter\n",
    "                   check_dtype=False,     # check for identical data types\n",
    "                   check_less_precise=4)  # number of digits to compare"
   ]
  },
  {
   "cell_type": "markdown",
   "metadata": {},
   "source": [
    "Also handles NaN or None comparisons \"as expected\"."
   ]
  },
  {
   "cell_type": "markdown",
   "metadata": {
    "slideshow": {
     "slide_type": "skip"
    }
   },
   "source": [
    "## Working with Pandas DataFrames\n",
    "\n",
    "Built in utilities that help you test."
   ]
  },
  {
   "cell_type": "code",
   "execution_count": 19,
   "metadata": {
    "ExecuteTime": {
     "end_time": "2019-05-03T02:05:06.462670Z",
     "start_time": "2019-05-03T02:05:06.457574Z"
    },
    "slideshow": {
     "slide_type": "skip"
    }
   },
   "outputs": [],
   "source": [
    "df2.loc[0, 'channel'] = np.nan\n",
    "df1 = df2.copy()"
   ]
  },
  {
   "cell_type": "code",
   "execution_count": 20,
   "metadata": {
    "ExecuteTime": {
     "end_time": "2019-05-03T02:05:08.232681Z",
     "start_time": "2019-05-03T02:05:08.227703Z"
    },
    "slideshow": {
     "slide_type": "skip"
    }
   },
   "outputs": [
    {
     "name": "stdout",
     "output_type": "stream",
     "text": [
      "       channel  customer  order\n",
      "0          NaN         1   1010\n",
      "1  paid_search         4   2050\n",
      "2      display         4   2050\n",
      "3        email         3   3232\n"
     ]
    }
   ],
   "source": [
    "print(df1)"
   ]
  },
  {
   "cell_type": "code",
   "execution_count": 21,
   "metadata": {
    "ExecuteTime": {
     "end_time": "2019-05-03T02:05:09.851130Z",
     "start_time": "2019-05-03T02:05:09.828895Z"
    },
    "slideshow": {
     "slide_type": "skip"
    }
   },
   "outputs": [
    {
     "name": "stdout",
     "output_type": "stream",
     "text": [
      "   channel  customer  order\n",
      "0    False      True   True\n",
      "1     True      True   True\n",
      "2     True      True   True\n",
      "3     True      True   True\n"
     ]
    }
   ],
   "source": [
    "print(df1 == df2)"
   ]
  },
  {
   "cell_type": "markdown",
   "metadata": {
    "slideshow": {
     "slide_type": "skip"
    }
   },
   "source": [
    "## Working with Pandas DataFrames\n",
    "\n",
    "Built in utilities that help you test."
   ]
  },
  {
   "cell_type": "code",
   "execution_count": 22,
   "metadata": {
    "ExecuteTime": {
     "end_time": "2019-05-03T02:05:21.754948Z",
     "start_time": "2019-05-03T02:05:21.750031Z"
    },
    "slideshow": {
     "slide_type": "skip"
    }
   },
   "outputs": [
    {
     "name": "stdout",
     "output_type": "stream",
     "text": [
      "       channel  customer  order\n",
      "0          NaN         1   1010\n",
      "1  paid_search         4   2050\n",
      "2      display         4   2050\n",
      "3        email         3   3232\n"
     ]
    }
   ],
   "source": [
    "print(df1)"
   ]
  },
  {
   "cell_type": "code",
   "execution_count": 23,
   "metadata": {
    "ExecuteTime": {
     "end_time": "2019-05-03T02:05:22.408340Z",
     "start_time": "2019-05-03T02:05:22.404382Z"
    },
    "slideshow": {
     "slide_type": "skip"
    }
   },
   "outputs": [],
   "source": [
    "assert_frame_equal(df1, df2)  # handles NaN or None comparisons \"as expected\""
   ]
  },
  {
   "cell_type": "markdown",
   "metadata": {
    "slideshow": {
     "slide_type": "slide"
    }
   },
   "source": [
    "# Working with Databases"
   ]
  },
  {
   "cell_type": "markdown",
   "metadata": {
    "slideshow": {
     "slide_type": "slide"
    }
   },
   "source": [
    "### Testing a function that queries the DB"
   ]
  },
  {
   "cell_type": "code",
   "execution_count": null,
   "metadata": {
    "ExecuteTime": {
     "end_time": "2019-02-18T03:38:43.146091Z",
     "start_time": "2019-02-18T03:38:43.131063Z"
    },
    "slideshow": {
     "slide_type": "-"
    }
   },
   "outputs": [],
   "source": [
    "# my_data_loader.py\n",
    "import pandas as pd\n",
    "import query_database\n",
    "\n",
    "\n",
    "def load_data(condition=''):\n",
    "    sql_query = f'select id, type, val from some_table {condition}'\n",
    "    df_raw = query_database(sql_query)\n",
    "    df = pd.get_dummies(df_raw, columns=['type'])\n",
    "    df.index = df.pop('id')\n",
    "    return df"
   ]
  },
  {
   "cell_type": "code",
   "execution_count": null,
   "metadata": {
    "ExecuteTime": {
     "end_time": "2018-09-25T05:04:20.006668Z",
     "start_time": "2018-09-25T05:04:19.876Z"
    },
    "slideshow": {
     "slide_type": "-"
    }
   },
   "outputs": [],
   "source": [
    "# test_data_loader.py\n",
    "import pytest\n",
    "import my_data_loader\n",
    "from pandas.util.testing import assert_frame_equal\n",
    "\n",
    "\n",
    "@pytest.fixture(params=[{'condition': 'where val > 100', 'output': out1}])\n",
    "def sample_data(request):\n",
    "    return request.param\n",
    "\n",
    "\n",
    "def test_load_data(sample_data):\n",
    "    # problem: we might not want to query the DB as part of our tests\n",
    "    output = my_data_loader.load_data(sample_data['condition'])\n",
    "    assert_frame_equal(output, sample_data['output'])"
   ]
  },
  {
   "cell_type": "markdown",
   "metadata": {
    "slideshow": {
     "slide_type": "slide"
    }
   },
   "source": [
    "## mocker\n",
    "\n",
    "pytest-mock is a plugin that lets you patch or swap out one piece of code for another"
   ]
  },
  {
   "cell_type": "markdown",
   "metadata": {
    "slideshow": {
     "slide_type": "slide"
    }
   },
   "source": [
    "### Testing a function that queries the DB"
   ]
  },
  {
   "cell_type": "code",
   "execution_count": null,
   "metadata": {
    "ExecuteTime": {
     "end_time": "2018-09-25T05:04:20.008111Z",
     "start_time": "2018-09-25T05:04:19.881Z"
    },
    "slideshow": {
     "slide_type": "-"
    }
   },
   "outputs": [],
   "source": [
    "# my_data_loader.py\n",
    "import pandas as pd\n",
    "import query_database\n",
    "\n",
    "\n",
    "def load_data(condition=''):\n",
    "    sql_query = f'select id, type, val from some_table {condition}'\n",
    "    df_raw = query_database(sql_query)\n",
    "    df = pd.get_dummies(df_raw, columns=['type'])\n",
    "    df.index = df.pop('id')\n",
    "    return df"
   ]
  },
  {
   "cell_type": "code",
   "execution_count": null,
   "metadata": {
    "ExecuteTime": {
     "end_time": "2019-02-18T03:53:55.474427Z",
     "start_time": "2019-02-18T03:53:55.457502Z"
    },
    "slideshow": {
     "slide_type": "-"
    }
   },
   "outputs": [],
   "source": [
    "# test_data_loader.py\n",
    "import pytest\n",
    "import my_data_loader\n",
    "from pandas.util.testing import assert_frame_equal\n",
    "\n",
    "\n",
    "@pytest.fixture(params=[{'input': in1, 'output': out1}])\n",
    "def sample_data(request):\n",
    "    return request.param\n",
    "\n",
    "\n",
    "def test_load_data(sample_data, mocker):\n",
    "    mocker.patch('my_data_loader.query_database',\n",
    "                 side_effect=lambda x: sample_data['input'])\n",
    "    output = my_data_loader.load_data('')\n",
    "    assert_frame_equal(output, sample_data['output'])"
   ]
  },
  {
   "cell_type": "markdown",
   "metadata": {
    "slideshow": {
     "slide_type": "slide"
    }
   },
   "source": [
    "# Generating DataFrames for testing\n",
    "\n",
    "Because hardcoding input/output dataframes is *extremely* verbose"
   ]
  },
  {
   "cell_type": "markdown",
   "metadata": {
    "slideshow": {
     "slide_type": "slide"
    }
   },
   "source": [
    "## Hypothesis\n",
    "\n",
    "Automatic data generation for property based testing"
   ]
  },
  {
   "cell_type": "code",
   "execution_count": 24,
   "metadata": {
    "ExecuteTime": {
     "end_time": "2019-05-03T02:05:44.638709Z",
     "start_time": "2019-05-03T02:05:44.569885Z"
    },
    "slideshow": {
     "slide_type": "-"
    }
   },
   "outputs": [
    {
     "name": "stdout",
     "output_type": "stream",
     "text": [
      "Examples of integers:\n",
      "14735\n",
      "-2\n",
      "13440\n"
     ]
    }
   ],
   "source": [
    "from hypothesis import strategies as st\n",
    "\n",
    "\n",
    "print('Examples of integers:')\n",
    "print(st.integers().example())\n",
    "print(st.integers().example())\n",
    "print(st.integers().example())"
   ]
  },
  {
   "cell_type": "code",
   "execution_count": 25,
   "metadata": {
    "ExecuteTime": {
     "end_time": "2019-05-03T02:05:53.800971Z",
     "start_time": "2019-05-03T02:05:53.796522Z"
    },
    "slideshow": {
     "slide_type": "slide"
    }
   },
   "outputs": [],
   "source": [
    "# contents of demo_hypothesis.py\n",
    "from hypothesis import given\n",
    "from hypothesis import strategies as st\n",
    "\n",
    "\n",
    "def backwards_allcaps(text):\n",
    "    return text[::-1].upper()\n",
    "\n",
    "\n",
    "@given(st.text())\n",
    "def test_backwards_allcaps(input_string):\n",
    "    modified = backwards_allcaps(input_string)\n",
    "    assert input_string.upper() == ''.join(reversed(modified))"
   ]
  },
  {
   "cell_type": "markdown",
   "metadata": {
    "slideshow": {
     "slide_type": "fragment"
    }
   },
   "source": [
    "<img src=\"img/hypothesis_show_stats.png\" style=\"width: 1200px;\">"
   ]
  },
  {
   "cell_type": "markdown",
   "metadata": {
    "slideshow": {
     "slide_type": "slide"
    }
   },
   "source": [
    "## Hypothesis + Pandas"
   ]
  },
  {
   "cell_type": "code",
   "execution_count": 49,
   "metadata": {
    "ExecuteTime": {
     "end_time": "2019-05-03T02:10:24.267788Z",
     "start_time": "2019-05-03T02:10:24.206106Z"
    },
    "slideshow": {
     "slide_type": "-"
    }
   },
   "outputs": [
    {
     "name": "stdout",
     "output_type": "stream",
     "text": [
      "   customer  price  prob_return\n",
      "0     10808    inf     0.534664\n",
      "1     50808    inf     0.534664\n",
      "2      4530    inf     0.534664\n"
     ]
    }
   ],
   "source": [
    "from hypothesis.extra.pandas import data_frames, column\n",
    "\n",
    "\n",
    "print(\n",
    "    data_frames([column('customer',\n",
    "                        elements=st.integers(min_value=0, max_value=100_000),\n",
    "                        dtype=int, unique=True),\n",
    "                 column('price', dtype='float'),\n",
    "                 column('prob_return',\n",
    "                        elements=st.floats(min_value=0, max_value=1))\n",
    "            ]).example())"
   ]
  },
  {
   "cell_type": "markdown",
   "metadata": {
    "slideshow": {
     "slide_type": "slide"
    }
   },
   "source": [
    "## Hypothesis + Pandas"
   ]
  },
  {
   "cell_type": "code",
   "execution_count": 50,
   "metadata": {
    "ExecuteTime": {
     "end_time": "2019-05-03T02:11:06.373689Z",
     "start_time": "2019-05-03T02:11:06.312011Z"
    },
    "slideshow": {
     "slide_type": "-"
    }
   },
   "outputs": [
    {
     "name": "stdout",
     "output_type": "stream",
     "text": [
      "Empty DataFrame\n",
      "Columns: [customer, price, prob_return]\n",
      "Index: []\n"
     ]
    }
   ],
   "source": [
    "from hypothesis.extra.pandas import data_frames, column\n",
    "\n",
    "\n",
    "print(\n",
    "    data_frames([column('customer',\n",
    "                        elements=st.integers(min_value=0, max_value=100_000),\n",
    "                        dtype=int, unique=True),\n",
    "                 column('price', dtype='float'), \n",
    "                 column('prob_return',\n",
    "                        elements=st.floats(min_value=0, max_value=1))\n",
    "                ]).example())"
   ]
  },
  {
   "cell_type": "markdown",
   "metadata": {
    "slideshow": {
     "slide_type": "slide"
    }
   },
   "source": [
    "## Testing properties of data"
   ]
  },
  {
   "cell_type": "code",
   "execution_count": 58,
   "metadata": {
    "ExecuteTime": {
     "end_time": "2019-05-03T02:57:37.464853Z",
     "start_time": "2019-05-03T02:57:37.460843Z"
    },
    "slideshow": {
     "slide_type": "-"
    }
   },
   "outputs": [],
   "source": [
    "df_customers = pd.DataFrame(\n",
    "    {'days_since_last_order': np.random.randint(low=0, high=365, size=1000),\n",
    "     'num_total_orders': np.random.geometric(0.5, size=1000)})"
   ]
  },
  {
   "cell_type": "code",
   "execution_count": 53,
   "metadata": {
    "ExecuteTime": {
     "end_time": "2019-05-03T02:11:21.577362Z",
     "start_time": "2019-05-03T02:11:21.356682Z"
    },
    "slideshow": {
     "slide_type": "-"
    }
   },
   "outputs": [
    {
     "data": {
      "image/png": "[encoded data removed]",
      "text/plain": [
       "<Figure size 576x216 with 2 Axes>"
      ]
     },
     "metadata": {},
     "output_type": "display_data"
    }
   ],
   "source": [
    "import matplotlib.pyplot as plt\n",
    "import seaborn as sns\n",
    "\n",
    "\n",
    "sns.set(font_scale=1.5)\n",
    "\n",
    "fig, (ax1, ax2) = plt.subplots(1, 2, figsize=(8, 3))\n",
    "df_customers.days_since_last_order.hist(ax=ax1)\n",
    "df_customers.num_total_orders.hist(ax=ax2)\n",
    "ax1.set_xlabel('Days Since Last Order')\n",
    "ax2.set_xlabel('Number of Total Orders')\n",
    "plt.show();"
   ]
  },
  {
   "cell_type": "markdown",
   "metadata": {
    "slideshow": {
     "slide_type": "slide"
    }
   },
   "source": [
    "## Testing properties of data"
   ]
  },
  {
   "cell_type": "code",
   "execution_count": 54,
   "metadata": {
    "ExecuteTime": {
     "end_time": "2019-05-03T02:11:24.702005Z",
     "start_time": "2019-05-03T02:11:24.698549Z"
    },
    "slideshow": {
     "slide_type": "-"
    }
   },
   "outputs": [],
   "source": [
    "from scipy.special import expit  # logistic function\n",
    "\n",
    "\n",
    "def probality_loyal_customer(df):\n",
    "    \"Return customer probability of returning.\"\n",
    "    p_num_orders = df.num_total_orders.apply(expit)\n",
    "    p_days_ago = df.days_since_last_order / df.days_since_last_order.max()\n",
    "    p_loyal = p_days_ago * p_num_orders\n",
    "    return p_loyal"
   ]
  },
  {
   "cell_type": "code",
   "execution_count": 55,
   "metadata": {
    "ExecuteTime": {
     "end_time": "2019-05-03T02:11:25.810989Z",
     "start_time": "2019-05-03T02:11:25.662059Z"
    },
    "slideshow": {
     "slide_type": "-"
    }
   },
   "outputs": [
    {
     "data": {
      "image/png": "[encoded data removed]",
      "text/plain": [
       "<Figure size 432x288 with 1 Axes>"
      ]
     },
     "metadata": {},
     "output_type": "display_data"
    }
   ],
   "source": [
    "prob_loyal = probality_loyal_customer(df_customers)\n",
    "prob_loyal.hist()\n",
    "plt.xlabel('Loyal Customer Probability');"
   ]
  },
  {
   "cell_type": "code",
   "execution_count": 56,
   "metadata": {
    "ExecuteTime": {
     "end_time": "2019-05-03T02:11:26.988145Z",
     "start_time": "2019-05-03T02:11:26.981885Z"
    },
    "slideshow": {
     "slide_type": "slide"
    }
   },
   "outputs": [],
   "source": [
    "# contents of demo_pandas_hypothesis.py\n",
    "from hypothesis import given\n",
    "from hypothesis import strategies as st\n",
    "from hypothesis.extra.pandas import data_frames, column\n",
    "from scipy.special import expit\n",
    "\n",
    "\n",
    "def probability_loyal_customer(df):\n",
    "    \"Return customer probability of returning.\"\n",
    "    p_num_orders = df.num_total_orders.apply(expit)\n",
    "    p_days_ago = df.days_since_last_order / df.days_since_last_order.max()\n",
    "    p_loyal = p_days_ago * p_num_orders\n",
    "    return p_loyal\n",
    "\n",
    "\n",
    "@given(\n",
    "    data_frames([\n",
    "        column('days_since_last_order', dtype=int,\n",
    "               elements=st.integers(min_value=0, max_value=365)),\n",
    "        column('num_total_orders', dtype=int,\n",
    "               elements=st.integers(min_value=0, max_value=1_000_000))])\n",
    ")\n",
    "def test_prob_loyality(df):\n",
    "    p = probability_loyal_customer(df)\n",
    "    assert p.between(0, 1, inclusive=True).all()"
   ]
  },
  {
   "cell_type": "markdown",
   "metadata": {
    "ExecuteTime": {
     "end_time": "2019-02-20T04:48:45.890158Z",
     "start_time": "2019-02-20T04:48:45.883113Z"
    },
    "slideshow": {
     "slide_type": "slide"
    }
   },
   "source": [
    "<img src=\"img/pandas_hypothesis.png\" style=\"width: 1200px;\">"
   ]
  },
  {
   "cell_type": "markdown",
   "metadata": {
    "slideshow": {
     "slide_type": "skip"
    }
   },
   "source": [
    "## mark\n",
    "\n",
    "you can organize your tests using marks - there are a few built in ones, and you can create your own"
   ]
  },
  {
   "cell_type": "code",
   "execution_count": 57,
   "metadata": {
    "ExecuteTime": {
     "end_time": "2019-05-03T02:11:35.216999Z",
     "start_time": "2019-05-03T02:11:35.213315Z"
    },
    "slideshow": {
     "slide_type": "skip"
    }
   },
   "outputs": [],
   "source": [
    "import pytest\n",
    "import sys\n",
    "\n",
    "\n",
    "@pytest.mark.skip\n",
    "def test_always_skip():\n",
    "    pass\n",
    "\n",
    "\n",
    "@pytest.mark.skipif(sys.platform == 'darwin',\n",
    "                    reason='Feature not supported on OS X')\n",
    "def test_not_on_mac():\n",
    "    pass\n",
    "\n",
    "\n",
    "@pytest.mark.slow  # custom mark\n",
    "def test_that_takes_a_long_time():\n",
    "    pass"
   ]
  },
  {
   "cell_type": "markdown",
   "metadata": {
    "slideshow": {
     "slide_type": "skip"
    }
   },
   "source": [
    "```sh\n",
    "$ pytest -m slow\n",
    "```"
   ]
  },
  {
   "cell_type": "markdown",
   "metadata": {
    "slideshow": {
     "slide_type": "slide"
    }
   },
   "source": [
    "## Wrap up\n",
    "\n",
    "- data scientists should not *always* write tests\n",
    "  - (but we should always practice defensive programming)\n",
    "- any reused or shared piece of code should probably be tested, especially in production\n",
    "- strive for a balance between speed and confidence in your results\n",
    "  - testing can help you acheive this!"
   ]
  },
  {
   "cell_type": "markdown",
   "metadata": {
    "slideshow": {
     "slide_type": "fragment"
    }
   },
   "source": [
    "### Some aspects of data science code are really hard to test!\n",
    "\n",
    "- ML results? probabilistic outcomes?\n",
    "- Think about testing properties of your data\n",
    "  - distributions, missing data, expected features and datatypes"
   ]
  },
  {
   "cell_type": "markdown",
   "metadata": {
    "slideshow": {
     "slide_type": "slide"
    }
   },
   "source": [
    "## Resources & Credits\n",
    "\n",
    "- **General testing resources**\n",
    "  - Andreas Pelme's [Introduction to pytest](https://www.youtube.com/watch?v=LdVJj65ikRY) from EuroPython 2014\n",
    "  - Mark Vousden's [Python testing](https://www.youtube.com/channel/UCKaKhMyhboLoMwmeF9yxg9w) 3-part series of youtube videos\n",
    "  - Justin Crown's [\"WHAT IS THIS MESS?\" - Writing tests for pre-existing code bases](https://www.youtube.com/watch?v=LDdUuoI_lIg) from PyCon 2018\n",
    "  - Ned Batchelder's [Getting Started Testing](https://www.youtube.com/watch?v=FxSsnHeWQBY) from PyCon 2014 (focuses on unittest)\n",
    "\n",
    "- **Data Science specific resources**\n",
    "  - Trey Causey's [Testing for Data Scientists](https://www.youtube.com/watch?v=GEqM9uJi64Q) from PyData Seattle 2015\n",
    "  - Eric Ma's [Best Testing Practice's for Data Science Tutorial](https://www.youtube.com/watch?v=yACtdj1_IxE) from PyCon 2017, with GitHub notebooks [here](https://github.com/ericmjl/data-testing-tutorial)"
   ]
  },
  {
   "cell_type": "markdown",
   "metadata": {
    "slideshow": {
     "slide_type": "fragment"
    }
   },
   "source": [
    "## Link to my slides\n",
    "\n",
    "https://github.com/jesford/testing-in-data-science"
   ]
  }
 ],
 "metadata": {
  "celltoolbar": "Slideshow",
  "kernelspec": {
   "display_name": "Python 3",
   "language": "python",
   "name": "python3"
  },
  "language_info": {
   "codemirror_mode": {
    "name": "ipython",
    "version": 3
   },
   "file_extension": ".py",
   "mimetype": "text/x-python",
   "name": "python",
   "nbconvert_exporter": "python",
   "pygments_lexer": "ipython3",
   "version": "3.7.2"
  }
 },
 "nbformat": 4,
 "nbformat_minor": 2
}
